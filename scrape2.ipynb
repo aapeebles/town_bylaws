{
 "cells": [
  {
   "cell_type": "code",
   "execution_count": null,
   "metadata": {},
   "outputs": [],
   "source": [
    "import pandas as pd\n",
    "import bs4 \n",
    "import requests as req\n",
    "WEBSITE_URL = \"https://www.mass.gov/info-details/massachusetts-city-and-town-ordinances-and-by-laws\"\n",
    "req = req.get(WEBSITE_URL)\n",
    "req.status_code\n",
    "soup = bs4.BeautifulSoup(req.text, 'html.parser')\n"
   ]
  },
  {
   "cell_type": "code",
   "execution_count": null,
   "metadata": {},
   "outputs": [],
   "source": [
    "import bs4 \n",
    "import requests as req\n"
   ]
  },
  {
   "cell_type": "code",
   "execution_count": null,
   "metadata": {},
   "outputs": [],
   "source": [
    "import requests as req\n"
   ]
  },
  {
   "cell_type": "code",
   "execution_count": null,
   "metadata": {},
   "outputs": [],
   "source": [
    "WEBSITE_URL = \"https://www.mass.gov/info-details/massachusetts-city-and-town-ordinances-and-by-laws\"\n"
   ]
  },
  {
   "cell_type": "code",
   "execution_count": null,
   "metadata": {},
   "outputs": [],
   "source": [
    "req = req.get(WEBSITE_URL)\n",
    "req.status_code\n",
    "soup = bs4.BeautifulSoup(req.text, 'html.parser')\n"
   ]
  },
  {
   "cell_type": "code",
   "execution_count": null,
   "metadata": {},
   "outputs": [
    {
     "data": {
      "text/plain": [
       "200\n"
      ]
     },
     "metadata": {},
     "output_type": "display_data"
    }
   ],
   "source": [
    "req.status_code\n"
   ]
  },
  {
   "cell_type": "code",
   "execution_count": null,
   "metadata": {},
   "outputs": [],
   "source": [
    "soup = bs4.BeautifulSoup(req.text, 'html.parser')\n"
   ]
  },
  {
   "cell_type": "code",
   "execution_count": null,
   "metadata": {},
   "outputs": [],
   "source": [
    "table = soup.find_all('table')[0]\n"
   ]
  },
  {
   "cell_type": "code",
   "execution_count": null,
   "metadata": {},
   "outputs": [],
   "source": [
    "rows = table.find_all('tr')\n"
   ]
  },
  {
   "cell_type": "code",
   "execution_count": null,
   "metadata": {},
   "outputs": [
    {
     "data": {
      "text/plain": [
       "21\n"
      ]
     },
     "metadata": {},
     "output_type": "display_data"
    }
   ],
   "source": [
    "len(rows)\n"
   ]
  },
  {
   "cell_type": "code",
   "execution_count": null,
   "metadata": {},
   "outputs": [],
   "source": [
    "header = rows[0].find_all('th')\n"
   ]
  },
  {
   "cell_type": "code",
   "execution_count": null,
   "metadata": {},
   "outputs": [],
   "source": [
    "titles = []\n",
    "for i in range(0,len(header)) :\n",
    "   titles.append(header[i].text.strip())\n",
    "\n",
    "titles\n"
   ]
  },
  {
   "cell_type": "code",
   "execution_count": null,
   "metadata": {},
   "outputs": [],
   "source": [
    "for i in range(0,len(header)) :\n",
    "   titles.append(header[i].text.strip())\n",
    "\n"
   ]
  },
  {
   "cell_type": "code",
   "execution_count": null,
   "metadata": {},
   "outputs": [
    {
     "data": {
      "text/plain": [
       "['City/Town', 'Ordinances/By-laws', 'Zoning Code', 'Other', 'City/Town', 'Ordinances/By-laws', 'Zoning Code', 'Other']\n"
      ]
     },
     "metadata": {},
     "output_type": "display_data"
    }
   ],
   "source": [
    "titles\n"
   ]
  },
  {
   "cell_type": "code",
   "execution_count": null,
   "metadata": {},
   "outputs": [],
   "source": [
    "titles = []\n"
   ]
  },
  {
   "cell_type": "code",
   "execution_count": null,
   "metadata": {},
   "outputs": [],
   "source": [
    "header = rows[0].find_all('th')\n"
   ]
  },
  {
   "cell_type": "code",
   "execution_count": null,
   "metadata": {},
   "outputs": [],
   "source": [
    "for i in range(0,len(header)) :\n",
    "   titles.append(header[i].text.strip())\n",
    "\n",
    "titles\n"
   ]
  },
  {
   "cell_type": "code",
   "execution_count": null,
   "metadata": {},
   "outputs": [
    {
     "data": {
      "text/plain": [
       "['City/Town', 'Ordinances/By-laws', 'Zoning Code', 'Other']\n"
      ]
     },
     "metadata": {},
     "output_type": "display_data"
    }
   ],
   "source": [
    "titles\n"
   ]
  },
  {
   "cell_type": "code",
   "execution_count": null,
   "metadata": {},
   "outputs": [],
   "source": [
    "def handle_nulls(x):\n",
    "    if x is not None:\n",
    "        return x.text.strip()\n",
    "    return \"\"\n",
    "\n"
   ]
  },
  {
   "cell_type": "code",
   "execution_count": null,
   "metadata": {},
   "outputs": [],
   "source": [
    "town_data =[]\n"
   ]
  },
  {
   "cell_type": "code",
   "execution_count": null,
   "metadata": {},
   "outputs": [],
   "source": [
    "for row in rows[2:]:\n",
    "    content = []\n",
    "    cells = row.find_all('td')\n",
    "    for iter in range(0,3,1) :\n",
    "        content.append(handle_nulls(cells[iter]))\n",
    "    town_data.append(content)\n",
    "\n"
   ]
  },
  {
   "cell_type": "code",
   "execution_count": null,
   "metadata": {},
   "outputs": [
    {
     "data": {
      "text/plain": [
       "[['General', '', ''], ['General', '', ''], ['General', '', ''], ['General', '', ''], ['General', '', ''], ['General', 'Zoning', ''], ['General', 'Zoning', ''], ['General', '', ''], ['General', '', ''], ['General', 'Zoning', ''], ['General', '', ''], ['General', '', ''], ['General', '', ''], ['General', '', ''], ['General', '', ''], ['General', 'Zoning', ''], ['General', '', ''], ['General', '', ''], ['General', '', '']]\n"
      ]
     },
     "metadata": {},
     "output_type": "display_data"
    }
   ],
   "source": [
    "town_data\n"
   ]
  },
  {
   "cell_type": "code",
   "execution_count": null,
   "metadata": {},
   "outputs": [],
   "source": [
    "def handle_nulls(x):\n",
    "    if x is not None:\n",
    "        return x.find(\"a\").get('href')\n",
    "    return \"\"\n",
    "\n"
   ]
  },
  {
   "cell_type": "code",
   "execution_count": null,
   "metadata": {},
   "outputs": [],
   "source": [
    "town_data =[]\n"
   ]
  },
  {
   "cell_type": "code",
   "execution_count": null,
   "metadata": {},
   "outputs": [
    {
     "data": {
      "text/plain": [
       "Traceback (most recent call last):\n",
       "  File \"/home/ubuntu/.vscode-server/extensions/ms-python.python-2024.18.1-linux-x64/python_files/python_server.py\", line 130, in exec_user_input\n",
       "    retval = callable_(user_input, user_globals)\n",
       "             ^^^^^^^^^^^^^^^^^^^^^^^^^^^^^^^^^^^\n",
       "  File \"<string>\", line 5, in <module>\n",
       "  File \"<string>\", line 3, in handle_nulls\n",
       "AttributeError: 'NoneType' object has no attribute 'get'\n",
       "\n"
      ]
     },
     "metadata": {},
     "output_type": "display_data"
    }
   ],
   "source": [
    "for row in rows[2:]:\n",
    "    content = []\n",
    "    cells = row.find_all('td')\n",
    "    for iter in range(0,3,1) :\n",
    "        content.append(handle_nulls(cells[iter]))\n",
    "    town_data.append(content)\n",
    "\n"
   ]
  },
  {
   "cell_type": "code",
   "execution_count": null,
   "metadata": {},
   "outputs": [
    {
     "data": {
      "text/plain": [
       "<tr><th scope=\"col\">Acushnet</th><td><a href=\"https://www.acushnet.ma.us/sites/g/files/vyhlif2721/f/uploads/2020_bylaw_book_update.pdf\">General</a></td><td> </td><td> </td></tr>\n"
      ]
     },
     "metadata": {},
     "output_type": "display_data"
    }
   ],
   "source": [
    "print(rows[3])\n"
   ]
  },
  {
   "cell_type": "code",
   "execution_count": null,
   "metadata": {},
   "outputs": [
    {
     "data": {
      "text/plain": [
       "<a href=\"https://www.acushnet.ma.us/sites/g/files/vyhlif2721/f/uploads/2020_bylaw_book_update.pdf\">General</a>\n"
      ]
     },
     "metadata": {},
     "output_type": "display_data"
    }
   ],
   "source": [
    "rows[3].find('a')\n"
   ]
  },
  {
   "cell_type": "code",
   "execution_count": null,
   "metadata": {},
   "outputs": [
    {
     "data": {
      "text/plain": [
       "https://www.acushnet.ma.us/sites/g/files/vyhlif2721/f/uploads/2020_bylaw_book_update.pdf\n"
      ]
     },
     "metadata": {},
     "output_type": "display_data"
    }
   ],
   "source": [
    "rows[3].find('a').get('href')\n"
   ]
  },
  {
   "cell_type": "code",
   "execution_count": null,
   "metadata": {},
   "outputs": [
    {
     "data": {
      "text/plain": [
       "https://ecode360.com/AM2893\n"
      ]
     },
     "metadata": {},
     "output_type": "display_data"
    }
   ],
   "source": [
    "rows[7].find('a').get('href')\n"
   ]
  },
  {
   "cell_type": "code",
   "execution_count": null,
   "metadata": {},
   "outputs": [
    {
     "data": {
      "text/plain": [
       "Traceback (most recent call last):\n",
       "  File \"/home/ubuntu/.vscode-server/extensions/ms-python.python-2024.18.1-linux-x64/python_files/python_server.py\", line 130, in exec_user_input\n",
       "    retval = callable_(user_input, user_globals)\n",
       "             ^^^^^^^^^^^^^^^^^^^^^^^^^^^^^^^^^^^\n",
       "  File \"<string>\", line 1, in <module>\n",
       "  File \"/home/ubuntu/analysis/town_bylaws/matown_pyenv/lib/python3.12/site-packages/bs4/element.py\", line 2433, in __getattr__\n",
       "    raise AttributeError(\n",
       "AttributeError: ResultSet object has no attribute 'get'. You're probably treating a list of elements like a single element. Did you call find_all() when you meant to call find()?\n",
       "\n"
      ]
     },
     "metadata": {},
     "output_type": "display_data"
    }
   ],
   "source": [
    "rows[7].find_all('a').get('href')\n"
   ]
  },
  {
   "cell_type": "code",
   "execution_count": null,
   "metadata": {},
   "outputs": [
    {
     "data": {
      "text/plain": [
       "[<a href=\"https://ecode360.com/AM2893\">General</a>, <a href=\"https://www.amesburyma.gov/415/Amesbury-Zoning-Ordinance-Maps\">Zoning</a>]\n"
      ]
     },
     "metadata": {},
     "output_type": "display_data"
    }
   ],
   "source": [
    "rows[7].find_all('a')\n"
   ]
  },
  {
   "cell_type": "code",
   "execution_count": null,
   "metadata": {},
   "outputs": [
    {
     "data": {
      "text/plain": [
       "['https://ecode360.com/AM2893', 'https://www.amesburyma.gov/415/Amesbury-Zoning-Ordinance-Maps']\n"
      ]
     },
     "metadata": {},
     "output_type": "display_data"
    }
   ],
   "source": [
    "[x.get('href') for x in rows[7].find_all('a')]\n"
   ]
  },
  {
   "cell_type": "code",
   "execution_count": null,
   "metadata": {},
   "outputs": [],
   "source": [
    "def handle_nulls(x):\n",
    "    if x is not None:\n",
    "        return [x.text.strip(), x.find(\"a\").get('href')]\n",
    "    return \"\"\n",
    "\n"
   ]
  },
  {
   "cell_type": "code",
   "execution_count": null,
   "metadata": {},
   "outputs": [],
   "source": [
    "town_data =[]\n"
   ]
  },
  {
   "cell_type": "code",
   "execution_count": null,
   "metadata": {},
   "outputs": [
    {
     "data": {
      "text/plain": [
       "Traceback (most recent call last):\n",
       "  File \"/home/ubuntu/.vscode-server/extensions/ms-python.python-2024.18.1-linux-x64/python_files/python_server.py\", line 130, in exec_user_input\n",
       "    retval = callable_(user_input, user_globals)\n",
       "             ^^^^^^^^^^^^^^^^^^^^^^^^^^^^^^^^^^^\n",
       "  File \"<string>\", line 5, in <module>\n",
       "  File \"<string>\", line 3, in handle_nulls\n",
       "AttributeError: 'NoneType' object has no attribute 'get'\n",
       "\n"
      ]
     },
     "metadata": {},
     "output_type": "display_data"
    }
   ],
   "source": [
    "for row in rows[2:]:\n",
    "    content = []\n",
    "    cells = row.find_all('td')\n",
    "    for iter in range(0,3,1) :\n",
    "        content.append(handle_nulls(cells[iter]))\n",
    "    town_data.append(content)\n",
    "\n"
   ]
  },
  {
   "cell_type": "code",
   "execution_count": null,
   "metadata": {},
   "outputs": [
    {
     "data": {
      "text/plain": [
       "[[], [], [], []]\n"
      ]
     },
     "metadata": {},
     "output_type": "display_data"
    }
   ],
   "source": [
    "[x.find_all('td') for x in rows[7]]\n"
   ]
  },
  {
   "cell_type": "code",
   "execution_count": null,
   "metadata": {},
   "outputs": [
    {
     "data": {
      "text/plain": [
       "[[], [], [], []]\n"
      ]
     },
     "metadata": {},
     "output_type": "display_data"
    }
   ],
   "source": [
    "[x.find_all('tr') for x in rows[7]]\n"
   ]
  },
  {
   "cell_type": "code",
   "execution_count": null,
   "metadata": {},
   "outputs": [
    {
     "data": {
      "text/plain": [
       "Traceback (most recent call last):\n",
       "  File \"/home/ubuntu/.vscode-server/extensions/ms-python.python-2024.18.1-linux-x64/python_files/python_server.py\", line 130, in exec_user_input\n",
       "    retval = callable_(user_input, user_globals)\n",
       "             ^^^^^^^^^^^^^^^^^^^^^^^^^^^^^^^^^^^\n",
       "  File \"<string>\", line 1, in <module>\n",
       "NameError: name 'deprecated' is not defined\n",
       "\n"
      ]
     },
     "metadata": {},
     "output_type": "display_data"
    }
   ],
   "source": [
    "deprecated"
   ]
  },
  {
   "cell_type": "code",
   "execution_count": null,
   "metadata": {},
   "outputs": [
    {
     "data": {
      "text/plain": [
       "Traceback (most recent call last):\n",
       "  File \"/home/ubuntu/.vscode-server/extensions/ms-python.python-2024.18.1-linux-x64/python_files/python_server.py\", line 130, in exec_user_input\n",
       "    retval = callable_(user_input, user_globals)\n",
       "             ^^^^^^^^^^^^^^^^^^^^^^^^^^^^^^^^^^^\n",
       "  File \"<string>\", line 1, in <module>\n",
       "  File \"/home/ubuntu/analysis/town_bylaws/matown_pyenv/lib/python3.12/site-packages/bs4/element.py\", line 1573, in __getitem__\n",
       "    return self.attrs[key]\n",
       "           ~~~~~~~~~~^^^^^\n",
       "KeyError: 7\n",
       "\n"
      ]
     },
     "metadata": {},
     "output_type": "display_data"
    }
   ],
   "source": [
    "[x for x in row[7]]\n"
   ]
  },
  {
   "cell_type": "code",
   "execution_count": null,
   "metadata": {},
   "outputs": [
    {
     "data": {
      "text/plain": [
       "[<th scope=\"col\">Amesbury</th>, <td><a href=\"https://ecode360.com/AM2893\">General</a></td>, <td><a href=\"https://www.amesburyma.gov/415/Amesbury-Zoning-Ordinance-Maps\">Zoning</a></td>, <td> </td>]\n"
      ]
     },
     "metadata": {},
     "output_type": "display_data"
    }
   ],
   "source": [
    "[x for x in rows[7]]\n"
   ]
  },
  {
   "cell_type": "code",
   "execution_count": null,
   "metadata": {},
   "outputs": [],
   "source": [
    "def handle_nulls(x):\n",
    "    if x is not None:\n",
    "        return [x.text.strip(), x.find(\"a\").get('href')]\n",
    "    return \"\"\n",
    "\n"
   ]
  },
  {
   "cell_type": "code",
   "execution_count": null,
   "metadata": {},
   "outputs": [],
   "source": [
    "town_data =[]\n"
   ]
  },
  {
   "cell_type": "code",
   "execution_count": null,
   "metadata": {},
   "outputs": [
    {
     "data": {
      "text/plain": [
       "Traceback (most recent call last):\n",
       "  File \"/home/ubuntu/.vscode-server/extensions/ms-python.python-2024.18.1-linux-x64/python_files/python_server.py\", line 130, in exec_user_input\n",
       "    retval = callable_(user_input, user_globals)\n",
       "             ^^^^^^^^^^^^^^^^^^^^^^^^^^^^^^^^^^^\n",
       "  File \"<string>\", line 7, in <module>\n",
       "  File \"<string>\", line 3, in handle_nulls\n",
       "AttributeError: 'NoneType' object has no attribute 'get'\n",
       "\n"
      ]
     },
     "metadata": {},
     "output_type": "display_data"
    }
   ],
   "source": [
    "for row in rows[2:]:\n",
    "    content = []\n",
    "    city = row.find('th').text.strip()\n",
    "    content.append(city)\n",
    "    cells = row.find_all('td')\n",
    "    for iter in range(len(cells)) :\n",
    "        content.append(handle_nulls(cells[iter]))\n",
    "    town_data.append(content)\n",
    "\n"
   ]
  },
  {
   "cell_type": "code",
   "execution_count": null,
   "metadata": {},
   "outputs": [
    {
     "data": {
      "text/plain": [
       "<th scope=\"col\">Amesbury</th>\n"
      ]
     },
     "metadata": {},
     "output_type": "display_data"
    }
   ],
   "source": [
    "rows[7].find('th')\n"
   ]
  },
  {
   "cell_type": "code",
   "execution_count": null,
   "metadata": {},
   "outputs": [
    {
     "data": {
      "text/plain": [
       "Amesbury\n"
      ]
     },
     "metadata": {},
     "output_type": "display_data"
    }
   ],
   "source": [
    "rows[7].find('th').text.strip()\n"
   ]
  },
  {
   "cell_type": "code",
   "execution_count": null,
   "metadata": {},
   "outputs": [
    {
     "data": {
      "text/plain": [
       "Acton\n",
       "Traceback (most recent call last):\n",
       "  File \"/home/ubuntu/.vscode-server/extensions/ms-python.python-2024.18.1-linux-x64/python_files/python_server.py\", line 130, in exec_user_input\n",
       "    retval = callable_(user_input, user_globals)\n",
       "             ^^^^^^^^^^^^^^^^^^^^^^^^^^^^^^^^^^^\n",
       "  File \"<string>\", line 9, in <module>\n",
       "  File \"<string>\", line 3, in handle_nulls\n",
       "AttributeError: 'NoneType' object has no attribute 'get'\n",
       "\n"
      ]
     },
     "metadata": {},
     "output_type": "display_data"
    }
   ],
   "source": [
    "for row in rows[2:]:\n",
    "    content = []\n",
    "    city = row.find('th').text.strip()\n",
    "    print(city)\n",
    "    content.append(city)\n",
    "    cells = row.find_all('td')\n",
    "    len(cells)\n",
    "    for iter in range(len(cells)) :\n",
    "        content.append(handle_nulls(cells[iter]))\n",
    "    town_data.append(content)\n",
    "\n"
   ]
  },
  {
   "cell_type": "code",
   "execution_count": null,
   "metadata": {},
   "outputs": [],
   "source": [
    "def handle_nulls(x):\n",
    "    if x is not None:\n",
    "        return [x.text.strip(), x.find(\"a\").get('href')]\n",
    "    return \"\"\n",
    "\n"
   ]
  },
  {
   "cell_type": "code",
   "execution_count": null,
   "metadata": {},
   "outputs": [
    {
     "data": {
      "text/plain": [
       "Acton\n",
       "Traceback (most recent call last):\n",
       "  File \"/home/ubuntu/.vscode-server/extensions/ms-python.python-2024.18.1-linux-x64/python_files/python_server.py\", line 130, in exec_user_input\n",
       "    retval = callable_(user_input, user_globals)\n",
       "             ^^^^^^^^^^^^^^^^^^^^^^^^^^^^^^^^^^^\n",
       "  File \"<string>\", line 9, in <module>\n",
       "  File \"<string>\", line 3, in handle_nulls\n",
       "AttributeError: 'NoneType' object has no attribute 'get'\n",
       "\n"
      ]
     },
     "metadata": {},
     "output_type": "display_data"
    }
   ],
   "source": [
    "for row in rows[2:]:\n",
    "    content = []\n",
    "    city = row.find('th').text.strip()\n",
    "    print(city)\n",
    "    content.append(city)\n",
    "    cells = row.find_all('td')\n",
    "    len(cells)\n",
    "    for iter in range(len(cells)) :\n",
    "        content.append(handle_nulls(cells[iter]))\n",
    "    town_data.append(content)\n",
    "\n"
   ]
  },
  {
   "cell_type": "code",
   "execution_count": null,
   "metadata": {},
   "outputs": [],
   "source": [
    "town_data =[]\n"
   ]
  },
  {
   "cell_type": "code",
   "execution_count": null,
   "metadata": {},
   "outputs": [
    {
     "data": {
      "text/plain": [
       "Acton\n",
       "Acton\n",
       "Traceback (most recent call last):\n",
       "  File \"/home/ubuntu/.vscode-server/extensions/ms-python.python-2024.18.1-linux-x64/python_files/python_server.py\", line 130, in exec_user_input\n",
       "    retval = callable_(user_input, user_globals)\n",
       "             ^^^^^^^^^^^^^^^^^^^^^^^^^^^^^^^^^^^\n",
       "  File \"<string>\", line 10, in <module>\n",
       "  File \"<string>\", line 3, in handle_nulls\n",
       "AttributeError: 'NoneType' object has no attribute 'get'\n",
       "\n"
      ]
     },
     "metadata": {},
     "output_type": "display_data"
    }
   ],
   "source": [
    "for row in rows[2:]:\n",
    "    content = []\n",
    "    city = row.find('th').text.strip()\n",
    "    print(city)\n",
    "    content.append(city)\n",
    "    print(city)\n",
    "    cells = row.find_all('td')\n",
    "    len(cells)\n",
    "    for iter in range(len(cells)) :\n",
    "        content.append(handle_nulls(cells[iter]))\n",
    "    town_data.append(content)\n",
    "\n"
   ]
  },
  {
   "cell_type": "code",
   "execution_count": null,
   "metadata": {},
   "outputs": [
    {
     "data": {
      "text/plain": [
       "[<td><a href=\"https://ecode360.com/AM2893\">General</a></td>, <td><a href=\"https://www.amesburyma.gov/415/Amesbury-Zoning-Ordinance-Maps\">Zoning</a></td>, <td> </td>]\n"
      ]
     },
     "metadata": {},
     "output_type": "display_data"
    }
   ],
   "source": [
    "rows[7].find_all('td')\n"
   ]
  },
  {
   "cell_type": "code",
   "execution_count": null,
   "metadata": {},
   "outputs": [
    {
     "data": {
      "text/plain": [
       "3\n"
      ]
     },
     "metadata": {},
     "output_type": "display_data"
    }
   ],
   "source": [
    "len(rows[7].find_all('td'))\n"
   ]
  },
  {
   "cell_type": "code",
   "execution_count": null,
   "metadata": {},
   "outputs": [
    {
     "data": {
      "text/plain": [
       "<td> </td>\n"
      ]
     },
     "metadata": {},
     "output_type": "display_data"
    }
   ],
   "source": [
    "rows[7].find_all('td')[2]\n"
   ]
  },
  {
   "cell_type": "code",
   "execution_count": null,
   "metadata": {},
   "outputs": [
    {
     "data": {
      "text/plain": [
       " \n"
      ]
     },
     "metadata": {},
     "output_type": "display_data"
    }
   ],
   "source": [
    "rows[7].find_all('td')[2].text\n"
   ]
  },
  {
   "cell_type": "code",
   "execution_count": null,
   "metadata": {},
   "outputs": [
    {
     "data": {
      "text/plain": [
       "False\n"
      ]
     },
     "metadata": {},
     "output_type": "display_data"
    }
   ],
   "source": [
    "rows[7].find_all('td')[2].text is None\n"
   ]
  },
  {
   "cell_type": "code",
   "execution_count": null,
   "metadata": {},
   "outputs": [
    {
     "data": {
      "text/plain": [
       "False\n"
      ]
     },
     "metadata": {},
     "output_type": "display_data"
    }
   ],
   "source": [
    "rows[7].find_all('td')[2].text.strip() is None\n"
   ]
  },
  {
   "cell_type": "code",
   "execution_count": null,
   "metadata": {},
   "outputs": [
    {
     "data": {
      "text/plain": [
       "True\n"
      ]
     },
     "metadata": {},
     "output_type": "display_data"
    }
   ],
   "source": [
    "rows[7].find_all('td')[2].text.strip() == ''\n"
   ]
  },
  {
   "cell_type": "code",
   "execution_count": null,
   "metadata": {},
   "outputs": [],
   "source": [
    "def handle_nulls(x):\n",
    "    if x.text.strip() != '':\n",
    "        return [x.text.strip(), x.find(\"a\").get('href')]\n",
    "    return \"\"\n",
    "\n"
   ]
  },
  {
   "cell_type": "code",
   "execution_count": null,
   "metadata": {},
   "outputs": [],
   "source": [
    "town_data =[]\n"
   ]
  },
  {
   "cell_type": "code",
   "execution_count": null,
   "metadata": {},
   "outputs": [
    {
     "data": {
      "text/plain": [
       "Acton\n",
       "Acushnet\n",
       "Adams\n",
       "Agawam\n",
       "Alford\n",
       "Amesbury\n",
       "Amherst\n",
       "Andover\n",
       "Aquinnah\n",
       "Arlington\n",
       "Ashburnham\n",
       "Ashby\n",
       "Ashfield\n",
       "Ashland\n",
       "Athol\n",
       "Attleboro\n",
       "Auburn\n",
       "Avon\n",
       "Ayer\n"
      ]
     },
     "metadata": {},
     "output_type": "display_data"
    }
   ],
   "source": [
    "for row in rows[2:]:\n",
    "    content = []\n",
    "    city = row.find('th').text.strip()\n",
    "    print(city)\n",
    "    content.append(city)\n",
    "    cells = row.find_all('td')\n",
    "    len(cells)\n",
    "    for iter in range(len(cells)) :\n",
    "        content.append(handle_nulls(cells[iter]))\n",
    "    town_data.append(content)\n",
    "\n"
   ]
  },
  {
   "cell_type": "code",
   "execution_count": null,
   "metadata": {},
   "outputs": [
    {
     "data": {
      "text/plain": [
       "[['Acton', ['General', 'https://www.acton-ma.gov/327/Town-Bylaws'], '', ''], ['Acushnet', ['General', 'https://www.acushnet.ma.us/sites/g/files/vyhlif2721/f/uploads/2020_bylaw_book_update.pdf'], '', ''], ['Adams', ['General', 'https://ecode360.com/AD2021'], '', ''], ['Agawam', ['General', 'https://ecode360.com/AG1041'], '', ''], ['Alford', ['General', 'https://www.townofalford.org/planning-board/pages/bylaws-documents-special-permits'], '', ''], ['Amesbury', ['General', 'https://ecode360.com/AM2893'], ['Zoning', 'https://www.amesburyma.gov/415/Amesbury-Zoning-Ordinance-Maps'], ''], ['Amherst', ['General', 'https://www.amherstma.gov/207/Home-Rule-Charter-General-Bylaws'], ['Zoning', 'https://www.amherstma.gov/476/Zoning-Bylaw-Map'], ''], ['Andover', ['General', 'https://ecode360.com/AN1471'], '', ''], ['Aquinnah', ['General', 'https://www.aquinnah-ma.gov/board-selectmen/pages/bylaws'], '', ''], ['Arlington', ['General', 'https://www.arlingtonma.gov/town-governance/laws-and-regulations/town-bylaws'], ['Zoning', 'https://www.arlingtonma.gov/town-governance/laws-and-regulations/zoning-bylaws'], ''], ['Ashburnham', ['General', 'https://ecode360.com/AS4284'], '', ''], ['Ashby', ['General', 'https://ci.ashby.ma.us/documents/'], '', ''], ['Ashfield', ['General', 'https://ashfield.org/2426/Ashfield-Bylaws'], '', ''], ['Ashland', ['General', 'https://ecode360.com/AS1268'], '', ''], ['Athol', ['General', 'https://www.athol-ma.gov/home/pages/charter-and-bylaws'], '', ''], ['Attleboro', ['General', 'https://www.cityofattleboro.us/DocumentCenter/View/323'], ['Zoning', 'https://www.cityofattleboro.us/documentcenter/view/379'], ''], ['Auburn', ['General', 'https://www.auburnma.gov/251/Town-Charter-and-Bylaws'], '', ''], ['Avon', ['General', 'https://ecode360.com/AV1285'], '', ''], ['Ayer', ['General', 'https://ecode360.com/AY3858'], '', '']]\n"
      ]
     },
     "metadata": {},
     "output_type": "display_data"
    }
   ],
   "source": [
    "town_data\n"
   ]
  },
  {
   "cell_type": "code",
   "execution_count": null,
   "metadata": {},
   "outputs": [],
   "source": [
    "def handle_nulls(x):\n",
    "    if x.text.strip() != '':\n",
    "        return x.find(\"a\").get('href')\n",
    "    return \"\"\n",
    "\n"
   ]
  },
  {
   "cell_type": "code",
   "execution_count": null,
   "metadata": {},
   "outputs": [],
   "source": [
    "town_data =[]\n"
   ]
  },
  {
   "cell_type": "code",
   "execution_count": null,
   "metadata": {},
   "outputs": [
    {
     "data": {
      "text/plain": [
       "Acton\n",
       "Acushnet\n",
       "Adams\n",
       "Agawam\n",
       "Alford\n",
       "Amesbury\n",
       "Amherst\n",
       "Andover\n",
       "Aquinnah\n",
       "Arlington\n",
       "Ashburnham\n",
       "Ashby\n",
       "Ashfield\n",
       "Ashland\n",
       "Athol\n",
       "Attleboro\n",
       "Auburn\n",
       "Avon\n",
       "Ayer\n"
      ]
     },
     "metadata": {},
     "output_type": "display_data"
    }
   ],
   "source": [
    "for row in rows[2:]:\n",
    "    content = []\n",
    "    city = row.find('th').text.strip()\n",
    "    print(city)\n",
    "    content.append(city)\n",
    "    cells = row.find_all('td')\n",
    "    len(cells)\n",
    "    for iter in range(len(cells)) :\n",
    "        content.append(handle_nulls(cells[iter]))\n",
    "    town_data.append(content)\n",
    "\n"
   ]
  },
  {
   "cell_type": "code",
   "execution_count": null,
   "metadata": {},
   "outputs": [
    {
     "data": {
      "text/plain": [
       "[['Acton', 'https://www.acton-ma.gov/327/Town-Bylaws', '', ''], ['Acushnet', 'https://www.acushnet.ma.us/sites/g/files/vyhlif2721/f/uploads/2020_bylaw_book_update.pdf', '', ''], ['Adams', 'https://ecode360.com/AD2021', '', '']]\n"
      ]
     },
     "metadata": {},
     "output_type": "display_data"
    }
   ],
   "source": [
    "town_data[:3]\n"
   ]
  },
  {
   "cell_type": "code",
   "execution_count": null,
   "metadata": {},
   "outputs": [],
   "source": [
    "town_data =[]\n"
   ]
  },
  {
   "cell_type": "code",
   "execution_count": null,
   "metadata": {},
   "outputs": [
    {
     "data": {
      "text/plain": [
       "Abington\n",
       "Acton\n",
       "Acushnet\n",
       "Adams\n",
       "Agawam\n",
       "Alford\n",
       "Amesbury\n",
       "Amherst\n",
       "Andover\n",
       "Aquinnah\n",
       "Arlington\n",
       "Ashburnham\n",
       "Ashby\n",
       "Ashfield\n",
       "Ashland\n",
       "Athol\n",
       "Attleboro\n",
       "Auburn\n",
       "Avon\n",
       "Ayer\n"
      ]
     },
     "metadata": {},
     "output_type": "display_data"
    }
   ],
   "source": [
    "for row in rows[1:]:\n",
    "    content = []\n",
    "    city = row.find('th').text.strip()\n",
    "    print(city)\n",
    "    content.append(city)\n",
    "    cells = row.find_all('td')\n",
    "    len(cells)\n",
    "    for iter in range(len(cells)) :\n",
    "        content.append(handle_nulls(cells[iter]))\n",
    "    town_data.append(content)\n",
    "\n"
   ]
  },
  {
   "cell_type": "code",
   "execution_count": null,
   "metadata": {},
   "outputs": [],
   "source": [
    "table = soup.find_all('table')[0]\n",
    "rows = table.find_all('tr')\n",
    "# how many rows are in the first table\n",
    "\n",
    "len(rows)\n",
    "# get header column\n",
    "\n",
    "header = rows[0].find_all('th')\n",
    "# get header names\n",
    "\n",
    "titles = []\n",
    "for i in range(0,len(header)) :\n",
    "   titles.append(header[i].text.strip())\n",
    "\n"
   ]
  },
  {
   "cell_type": "code",
   "execution_count": null,
   "metadata": {},
   "outputs": [],
   "source": [
    "rows = table.find_all('tr')\n"
   ]
  },
  {
   "cell_type": "code",
   "execution_count": null,
   "metadata": {},
   "outputs": [],
   "source": [
    "header = rows[0].find_all('th')\n"
   ]
  },
  {
   "cell_type": "code",
   "execution_count": null,
   "metadata": {},
   "outputs": [],
   "source": [
    "titles = []\n"
   ]
  },
  {
   "cell_type": "code",
   "execution_count": null,
   "metadata": {},
   "outputs": [],
   "source": [
    "for i in range(0,len(header)) :\n",
    "   titles.append(header[i].text.strip())\n",
    "\n"
   ]
  },
  {
   "cell_type": "code",
   "execution_count": null,
   "metadata": {},
   "outputs": [
    {
     "data": {
      "text/plain": [
       "['City/Town', 'Ordinances/By-laws', 'Zoning Code', 'Other']\n"
      ]
     },
     "metadata": {},
     "output_type": "display_data"
    }
   ],
   "source": [
    "titles\n"
   ]
  },
  {
   "cell_type": "code",
   "execution_count": null,
   "metadata": {},
   "outputs": [],
   "source": []
  }
 ],
 "metadata": {
  "language_info": {
   "name": "python"
  }
 },
 "nbformat": 4,
 "nbformat_minor": 2
}
